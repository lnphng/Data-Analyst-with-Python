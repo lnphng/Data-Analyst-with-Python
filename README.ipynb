{
 "cells": [
  {
   "cell_type": "markdown",
   "metadata": {},
   "source": [
    "### 01. Exploring the Evolution of Linux\n",
    "\n",
    "- Version control repositories like CVS, Subversion or Git store rich evolution information about a software project. In this project, I excercise:\n",
    "   - how to read `gz` file, \n",
    "   - clean up and \n",
    "   - visualize a real world Git repository dataset of the Linux kernel. \n",
    "- Data set are incluced with almost 700k commits and thousands of contributors, I did some little data cleaning and wrangling. \n",
    "- After that I gained insights about the development activities over the last 13 years and visualized it.\n",
    "\n",
    "#### For this Project, I reviewed knowledge of: \n",
    "- Import data with pandas\n",
    "- Data Manipulation with pandas\n",
    "- Manipulating Time Series Data in Python\n"
   ]
  }
 ],
 "metadata": {
  "hide_input": false,
  "kernelspec": {
   "display_name": "Python 3",
   "language": "python",
   "name": "python3"
  },
  "language_info": {
   "codemirror_mode": {
    "name": "ipython",
    "version": 3
   },
   "file_extension": ".py",
   "mimetype": "text/x-python",
   "name": "python",
   "nbconvert_exporter": "python",
   "pygments_lexer": "ipython3",
   "version": "3.7.6"
  }
 },
 "nbformat": 4,
 "nbformat_minor": 4
}
